{
 "cells": [
  {
   "cell_type": "markdown",
   "metadata": {},
   "source": [
    "# Procédure de test DF sur un processus simulé\n",
    "\n",
    "On commence par la simulation du processus:"
   ]
  },
  {
   "cell_type": "code",
   "execution_count": 8,
   "metadata": {},
   "outputs": [],
   "source": [
    "T <- 1000\n",
    "u <- rnorm(T)\n",
    "e <- rep(NA,T)\n",
    "y <- rep(NA,T)\n",
    "dy <- rep(NA,500)\n",
    "y[1] <- 0\n",
    "e[1] <- 0\n",
    "\n",
    "for (t in 2:T){\n",
    "  e[t] <- 0.2*e[t-1]  +u[t]\n",
    "  y[t] <- y[t-1] + e[t]\n",
    "}\n"
   ]
  },
  {
   "cell_type": "markdown",
   "metadata": {},
   "source": [
    "* Etape 1: On fait un test de racine unitaire sur le modèle le plus général\n",
    "\n",
    "$$\\Delta y_t = c + \\rho y_{t-1} + \\beta t + \\varepsilon_t$$\n"
   ]
  },
  {
   "cell_type": "code",
   "execution_count": 9,
   "metadata": {},
   "outputs": [
    {
     "data": {
      "text/plain": [
       "\n",
       "Call:\n",
       "lm(formula = dy ~ 1 + t + y.lag.1)\n",
       "\n",
       "Residuals:\n",
       "    Min      1Q  Median      3Q     Max \n",
       "-2.9971 -0.6996 -0.0025  0.7159  3.5212 \n",
       "\n",
       "Coefficients:\n",
       "              Estimate Std. Error t value Pr(>|t|)   \n",
       "(Intercept)  0.0004925  0.0657797   0.007  0.99403   \n",
       "t            0.0004224  0.0001729   2.443  0.01474 * \n",
       "y.lag.1     -0.0177673  0.0060689  -2.928  0.00349 **\n",
       "---\n",
       "Signif. codes:  0 '***' 0.001 '**' 0.01 '*' 0.05 '.' 0.1 ' ' 1\n",
       "\n",
       "Residual standard error: 1.038 on 996 degrees of freedom\n",
       "Multiple R-squared:  0.008663,\tAdjusted R-squared:  0.006672 \n",
       "F-statistic: 4.352 on 2 and 996 DF,  p-value: 0.01313\n"
      ]
     },
     "metadata": {},
     "output_type": "display_data"
    }
   ],
   "source": [
    "dy=diff(y)\n",
    "T=length(dy)\n",
    "lags = 0\n",
    "y.lag.1=y[(lags+1):T]\n",
    "t = (lags+1):T\n",
    "model_nc3 <- lm(dy~1+t+y.lag.1 )\n",
    "summary(model_nc3)"
   ]
  },
  {
   "cell_type": "markdown",
   "metadata": {},
   "source": [
    "La statistique de test associée à $\\rho$ est -0.970. On compare cette valeur à la valeur critique d'une table Dickey Fuller. Par exemple: http://homes.chass.utoronto.ca/~floyd/statabs.pdf\n",
    "Cette valeur critique est égale à -3.45. La t-stat est au dessus, on accepte l'hypothèse nulle de racine unitaire. \n",
    "\n",
    "* Etape 2: Il faut maintenant vérifier que le modèle 3 est le bon modèle."
   ]
  },
  {
   "cell_type": "code",
   "execution_count": 3,
   "metadata": {
    "scrolled": true
   },
   "outputs": [
    {
     "name": "stdout",
     "output_type": "stream",
     "text": [
      "[1] 5.224349\n"
     ]
    }
   ],
   "source": [
    "# Validité du modèle 3\n",
    "ssrnc3 = sum(residuals(model_nc3)^2)\n",
    "model_c3 <- lm(dy~1)\n",
    "ssrc3 = sum(residuals(model_c3)^2)\n",
    "stat_f3 = ((ssrc3 - ssrnc3)/2)/(ssrnc3/(T-3))\n",
    "print(stat_f3)\n"
   ]
  },
  {
   "cell_type": "markdown",
   "metadata": {},
   "source": [
    "La statistique de Fisher est de 1.77. On compare à la statistique de la table de DF. On trouve F critique = 6.49\n",
    "On accepte l'hypothèse nulle, le modèle 3 n' est pas le bon. \n",
    "\n",
    "* Étape 3: On recommence avec le modèle 2\n",
    "\n",
    "$$ \\Delta y_t = c + \\rho y_{t-1} + \\varepsilon_t $$"
   ]
  },
  {
   "cell_type": "code",
   "execution_count": 4,
   "metadata": {},
   "outputs": [
    {
     "data": {
      "text/plain": [
       "\n",
       "Call:\n",
       "lm(formula = dy ~ 1 + y.lag.1)\n",
       "\n",
       "Residuals:\n",
       "    Min      1Q  Median      3Q     Max \n",
       "-3.4250 -0.7105  0.0005  0.6399  3.2814 \n",
       "\n",
       "Coefficients:\n",
       "             Estimate Std. Error t value Pr(>|t|)  \n",
       "(Intercept) -0.160609   0.079827  -2.012   0.0445 *\n",
       "y.lag.1     -0.005468   0.002698  -2.027   0.0429 *\n",
       "---\n",
       "Signif. codes:  0 ‘***’ 0.001 ‘**’ 0.01 ‘*’ 0.05 ‘.’ 0.1 ‘ ’ 1\n",
       "\n",
       "Residual standard error: 1.026 on 997 degrees of freedom\n",
       "Multiple R-squared:  0.004103,\tAdjusted R-squared:  0.003105 \n",
       "F-statistic: 4.108 on 1 and 997 DF,  p-value: 0.04295\n"
      ]
     },
     "metadata": {},
     "output_type": "display_data"
    }
   ],
   "source": [
    "# On estime le modèle 2 car modèle 3 mal spécifié\n",
    "\n",
    "model_nc2 <- lm(dy~1+y.lag.1 )\n",
    "summary(model_nc2)\n"
   ]
  },
  {
   "cell_type": "markdown",
   "metadata": {},
   "source": [
    "La statistique de test associée à $\\rho$ est -0.970. On compare cette valeur à la valeur critique d'une table Dickey Fuller. La statistique associée est t = -1.778. La valeur critique lue dans la table DF est égale à -2.8. On accepte l'hypothèse nulle de racine unitaire.\n",
    "\n",
    "* Étape 4: On vérifie que le modèle 2 est le bon modèle"
   ]
  },
  {
   "cell_type": "code",
   "execution_count": 5,
   "metadata": {},
   "outputs": [
    {
     "name": "stdout",
     "output_type": "stream",
     "text": [
      "[1] 2.131676\n"
     ]
    }
   ],
   "source": [
    "# Validité du modèle 2\n",
    "ssrnc2 = sum(residuals(model_nc2)^2)\n",
    "ssrc2 = sum(dy^2)\n",
    "stat_f2 = ((ssrc2 - ssrnc2)/2)/(ssrnc2/(T-2))\n",
    "print(stat_f2)"
   ]
  },
  {
   "cell_type": "markdown",
   "metadata": {},
   "source": [
    "La statistique de Fisher est F=1.62. La valeur critique est de 4.71. On accepte l'hypothèse nulle, le modèle 2 n'est pas le bon. \n",
    "\n",
    "* Étape 5: On finit avec le modèle le plus simple"
   ]
  },
  {
   "cell_type": "code",
   "execution_count": 6,
   "metadata": {},
   "outputs": [
    {
     "data": {
      "text/plain": [
       "\n",
       "Call:\n",
       "lm(formula = dy ~ 0 + y.lag.1)\n",
       "\n",
       "Residuals:\n",
       "    Min      1Q  Median      3Q     Max \n",
       "-3.5051 -0.7514 -0.0266  0.6228  3.2794 \n",
       "\n",
       "Coefficients:\n",
       "          Estimate Std. Error t value Pr(>|t|)\n",
       "y.lag.1 -0.0005092  0.0010988  -0.463    0.643\n",
       "\n",
       "Residual standard error: 1.028 on 998 degrees of freedom\n",
       "Multiple R-squared:  0.0002151,\tAdjusted R-squared:  -0.0007867 \n",
       "F-statistic: 0.2147 on 1 and 998 DF,  p-value: 0.6432\n"
      ]
     },
     "metadata": {},
     "output_type": "display_data"
    }
   ],
   "source": [
    "model_nc1 <- lm(dy~0 + y.lag.1 )\n",
    "summary(model_nc1)"
   ]
  },
  {
   "cell_type": "markdown",
   "metadata": {},
   "source": [
    "La t-stat est de -1.40. La valeur critique lue dans la table de DF est de -1.95. Le modèle est I(1)\n",
    "Refaisons le même exercice mais avec une tendance déterministe. \n",
    "\n"
   ]
  },
  {
   "cell_type": "code",
   "execution_count": 7,
   "metadata": {},
   "outputs": [
    {
     "data": {
      "text/plain": [
       "\n",
       "Call:\n",
       "lm(formula = dy ~ 1 + t + y.lag.1)\n",
       "\n",
       "Residuals:\n",
       "     Min       1Q   Median       3Q      Max \n",
       "-3.06952 -0.68455  0.01418  0.71270  2.74188 \n",
       "\n",
       "Coefficients:\n",
       "              Estimate Std. Error t value Pr(>|t|)    \n",
       "(Intercept) -1.298e-01  9.927e-02  -1.307    0.191    \n",
       "t            1.048e-02  4.476e-04  23.409   <2e-16 ***\n",
       "y.lag.1     -5.944e-05  8.623e-05  -0.689    0.491    \n",
       "---\n",
       "Signif. codes:  0 ‘***’ 0.001 ‘**’ 0.01 ‘*’ 0.05 ‘.’ 0.1 ‘ ’ 1\n",
       "\n",
       "Residual standard error: 1.051 on 996 degrees of freedom\n",
       "Multiple R-squared:  0.8866,\tAdjusted R-squared:  0.8864 \n",
       "F-statistic:  3895 on 2 and 996 DF,  p-value: < 2.2e-16\n"
      ]
     },
     "metadata": {},
     "output_type": "display_data"
    },
    {
     "name": "stdout",
     "output_type": "stream",
     "text": [
      "[1] 3895.276\n"
     ]
    }
   ],
   "source": [
    "T <- 1000\n",
    "u <- rnorm(T)\n",
    "e <- rep(NA,T)\n",
    "y <- rep(NA,T)\n",
    "dy <- rep(NA,500)\n",
    "y[1] <- 0\n",
    "e[1] <- 0\n",
    "\n",
    "for (t in 2:T){\n",
    "  e[t] <- 0.2*e[t-1]  +u[t]\n",
    "  y[t] <- y[t-1] + e[t] + 0.01*t\n",
    "}\n",
    "\n",
    "dy=diff(y)\n",
    "T=length(dy)\n",
    "lags = 0\n",
    "y.lag.1=y[(lags+1):T]\n",
    "t = (lags+1):T\n",
    "model_nc3 <- lm(dy~1+t+y.lag.1 )\n",
    "summary(model_nc3)\n",
    "\n",
    "# Validité du modèle 3\n",
    "ssrnc3 = sum(residuals(model_nc3)^2)\n",
    "model_c3 <- lm(dy~1)\n",
    "ssrc3 = sum(residuals(model_c3)^2)\n",
    "stat_f3 = ((ssrc3 - ssrnc3)/2)/(ssrnc3/(T-3))\n",
    "print(stat_f3)\n"
   ]
  },
  {
   "cell_type": "markdown",
   "metadata": {},
   "source": [
    "La t-value est de 0.98, la valeur critique de -3.45. On accepte la racine unitaire. La stat de Fisher est de 4043, on rejette l'hypothèse nulle. On a bien le modèle simulé. \n",
    "Entrainez-vous avec différents modèles!!!!"
   ]
  }
 ],
 "metadata": {
  "kernelspec": {
   "display_name": "R",
   "language": "R",
   "name": "ir"
  },
  "language_info": {
   "codemirror_mode": "r",
   "file_extension": ".r",
   "mimetype": "text/x-r-source",
   "name": "R",
   "pygments_lexer": "r",
   "version": "3.6.1"
  }
 },
 "nbformat": 4,
 "nbformat_minor": 2
}
